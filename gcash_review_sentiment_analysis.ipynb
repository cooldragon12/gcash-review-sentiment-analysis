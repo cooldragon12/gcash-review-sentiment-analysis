{
 "cells": [
  {
   "attachments": {},
   "cell_type": "markdown",
   "metadata": {},
   "source": [
    "# ``Gcash Review Sentiment Analysis``\n",
    "\n",
    "The goal of the \"GCash App Review Sentiment Analysis\" project is to develop a robust sentiment analysis system that accurately assesses user sentiments expressed in GCash app reviews, providing valuable insights to improve user experience and enhance the app's functionality.\n",
    "\n",
    "The dataset is get from Kaggle:\n",
    "[🇵🇭 GCash Google Store App Reviews](https://www.kaggle.com/datasets/bwandowando/globe-gcash-google-app-reviews)"
   ]
  },
  {
   "attachments": {},
   "cell_type": "markdown",
   "metadata": {},
   "source": [
    "* Data Preprocessing:\n",
    "\n",
    "Clean and preprocess the collected data, including text normalization, removing noise, and handling missing or duplicate reviews.\n",
    "* Sentiment Labeling:\n",
    "\n",
    "Manually or using automated tools, label the reviews with sentiment categories (e.g., positive, negative, neutral) to create a labeled dataset for supervised learning.\n",
    "* Feature Extraction:\n",
    "\n",
    "\n",
    "Prepare a presentation summarizing the project's findings, recommendations, and the impact of sentiment analysis on enhancing the GCash app's user experience."
   ]
  },
  {
   "attachments": {},
   "cell_type": "markdown",
   "metadata": {},
   "source": [
    "# Installing Dependencies \n",
    "\n",
    "Installing depndencies using pip, run the following command in the terminal:"
   ]
  },
  {
   "cell_type": "code",
   "execution_count": 2,
   "metadata": {},
   "outputs": [
    {
     "name": "stdout",
     "output_type": "stream",
     "text": [
      "Requirement already satisfied: pandas in e:\\my projects\\gcash-review-sentiment-analysis\\env\\lib\\site-packages (2.2.2)\n",
      "Requirement already satisfied: numpy in e:\\my projects\\gcash-review-sentiment-analysis\\env\\lib\\site-packages (1.26.4)\n",
      "Requirement already satisfied: scikit-learn in e:\\my projects\\gcash-review-sentiment-analysis\\env\\lib\\site-packages (1.4.2)\n",
      "Requirement already satisfied: tensorflow in e:\\my projects\\gcash-review-sentiment-analysis\\env\\lib\\site-packages (2.16.1)\n",
      "Requirement already satisfied: keras in e:\\my projects\\gcash-review-sentiment-analysis\\env\\lib\\site-packages (3.3.3)\n",
      "Requirement already satisfied: matplotlib in e:\\my projects\\gcash-review-sentiment-analysis\\env\\lib\\site-packages (3.8.4)\n",
      "Requirement already satisfied: seaborn in e:\\my projects\\gcash-review-sentiment-analysis\\env\\lib\\site-packages (0.13.2)\n",
      "Requirement already satisfied: spacy in e:\\my projects\\gcash-review-sentiment-analysis\\env\\lib\\site-packages (3.7.4)\n",
      "Requirement already satisfied: textblob in e:\\my projects\\gcash-review-sentiment-analysis\\env\\lib\\site-packages (0.18.0.post0)\n",
      "Requirement already satisfied: wordcloud in e:\\my projects\\gcash-review-sentiment-analysis\\env\\lib\\site-packages (1.9.3)\n",
      "Requirement already satisfied: python-dateutil>=2.8.2 in e:\\my projects\\gcash-review-sentiment-analysis\\env\\lib\\site-packages (from pandas) (2.9.0.post0)\n",
      "Requirement already satisfied: pytz>=2020.1 in e:\\my projects\\gcash-review-sentiment-analysis\\env\\lib\\site-packages (from pandas) (2024.1)\n",
      "Requirement already satisfied: tzdata>=2022.7 in e:\\my projects\\gcash-review-sentiment-analysis\\env\\lib\\site-packages (from pandas) (2024.1)\n",
      "Requirement already satisfied: scipy>=1.6.0 in e:\\my projects\\gcash-review-sentiment-analysis\\env\\lib\\site-packages (from scikit-learn) (1.13.0)\n",
      "Requirement already satisfied: joblib>=1.2.0 in e:\\my projects\\gcash-review-sentiment-analysis\\env\\lib\\site-packages (from scikit-learn) (1.4.2)\n",
      "Requirement already satisfied: threadpoolctl>=2.0.0 in e:\\my projects\\gcash-review-sentiment-analysis\\env\\lib\\site-packages (from scikit-learn) (3.5.0)\n",
      "Requirement already satisfied: tensorflow-intel==2.16.1 in e:\\my projects\\gcash-review-sentiment-analysis\\env\\lib\\site-packages (from tensorflow) (2.16.1)\n",
      "Requirement already satisfied: absl-py>=1.0.0 in e:\\my projects\\gcash-review-sentiment-analysis\\env\\lib\\site-packages (from tensorflow-intel==2.16.1->tensorflow) (2.1.0)\n",
      "Requirement already satisfied: astunparse>=1.6.0 in e:\\my projects\\gcash-review-sentiment-analysis\\env\\lib\\site-packages (from tensorflow-intel==2.16.1->tensorflow) (1.6.3)\n",
      "Requirement already satisfied: flatbuffers>=23.5.26 in e:\\my projects\\gcash-review-sentiment-analysis\\env\\lib\\site-packages (from tensorflow-intel==2.16.1->tensorflow) (24.3.25)\n",
      "Requirement already satisfied: gast!=0.5.0,!=0.5.1,!=0.5.2,>=0.2.1 in e:\\my projects\\gcash-review-sentiment-analysis\\env\\lib\\site-packages (from tensorflow-intel==2.16.1->tensorflow) (0.5.4)\n",
      "Requirement already satisfied: google-pasta>=0.1.1 in e:\\my projects\\gcash-review-sentiment-analysis\\env\\lib\\site-packages (from tensorflow-intel==2.16.1->tensorflow) (0.2.0)\n",
      "Requirement already satisfied: h5py>=3.10.0 in e:\\my projects\\gcash-review-sentiment-analysis\\env\\lib\\site-packages (from tensorflow-intel==2.16.1->tensorflow) (3.11.0)\n",
      "Requirement already satisfied: libclang>=13.0.0 in e:\\my projects\\gcash-review-sentiment-analysis\\env\\lib\\site-packages (from tensorflow-intel==2.16.1->tensorflow) (18.1.1)\n",
      "Requirement already satisfied: ml-dtypes~=0.3.1 in e:\\my projects\\gcash-review-sentiment-analysis\\env\\lib\\site-packages (from tensorflow-intel==2.16.1->tensorflow) (0.3.2)\n",
      "Requirement already satisfied: opt-einsum>=2.3.2 in e:\\my projects\\gcash-review-sentiment-analysis\\env\\lib\\site-packages (from tensorflow-intel==2.16.1->tensorflow) (3.3.0)\n",
      "Requirement already satisfied: packaging in e:\\my projects\\gcash-review-sentiment-analysis\\env\\lib\\site-packages (from tensorflow-intel==2.16.1->tensorflow) (24.0)\n",
      "Requirement already satisfied: protobuf!=4.21.0,!=4.21.1,!=4.21.2,!=4.21.3,!=4.21.4,!=4.21.5,<5.0.0dev,>=3.20.3 in e:\\my projects\\gcash-review-sentiment-analysis\\env\\lib\\site-packages (from tensorflow-intel==2.16.1->tensorflow) (4.25.3)\n",
      "Requirement already satisfied: requests<3,>=2.21.0 in e:\\my projects\\gcash-review-sentiment-analysis\\env\\lib\\site-packages (from tensorflow-intel==2.16.1->tensorflow) (2.31.0)\n",
      "Requirement already satisfied: setuptools in e:\\my projects\\gcash-review-sentiment-analysis\\env\\lib\\site-packages (from tensorflow-intel==2.16.1->tensorflow) (65.5.0)\n",
      "Requirement already satisfied: six>=1.12.0 in e:\\my projects\\gcash-review-sentiment-analysis\\env\\lib\\site-packages (from tensorflow-intel==2.16.1->tensorflow) (1.16.0)\n",
      "Requirement already satisfied: termcolor>=1.1.0 in e:\\my projects\\gcash-review-sentiment-analysis\\env\\lib\\site-packages (from tensorflow-intel==2.16.1->tensorflow) (2.4.0)\n",
      "Requirement already satisfied: typing-extensions>=3.6.6 in e:\\my projects\\gcash-review-sentiment-analysis\\env\\lib\\site-packages (from tensorflow-intel==2.16.1->tensorflow) (4.11.0)\n",
      "Requirement already satisfied: wrapt>=1.11.0 in e:\\my projects\\gcash-review-sentiment-analysis\\env\\lib\\site-packages (from tensorflow-intel==2.16.1->tensorflow) (1.16.0)\n",
      "Requirement already satisfied: grpcio<2.0,>=1.24.3 in e:\\my projects\\gcash-review-sentiment-analysis\\env\\lib\\site-packages (from tensorflow-intel==2.16.1->tensorflow) (1.63.0)\n",
      "Requirement already satisfied: tensorboard<2.17,>=2.16 in e:\\my projects\\gcash-review-sentiment-analysis\\env\\lib\\site-packages (from tensorflow-intel==2.16.1->tensorflow) (2.16.2)\n",
      "Requirement already satisfied: tensorflow-io-gcs-filesystem>=0.23.1 in e:\\my projects\\gcash-review-sentiment-analysis\\env\\lib\\site-packages (from tensorflow-intel==2.16.1->tensorflow) (0.31.0)\n",
      "Requirement already satisfied: rich in e:\\my projects\\gcash-review-sentiment-analysis\\env\\lib\\site-packages (from keras) (13.7.1)\n",
      "Requirement already satisfied: namex in e:\\my projects\\gcash-review-sentiment-analysis\\env\\lib\\site-packages (from keras) (0.0.8)\n",
      "Requirement already satisfied: optree in e:\\my projects\\gcash-review-sentiment-analysis\\env\\lib\\site-packages (from keras) (0.11.0)\n",
      "Requirement already satisfied: contourpy>=1.0.1 in e:\\my projects\\gcash-review-sentiment-analysis\\env\\lib\\site-packages (from matplotlib) (1.2.1)\n",
      "Requirement already satisfied: cycler>=0.10 in e:\\my projects\\gcash-review-sentiment-analysis\\env\\lib\\site-packages (from matplotlib) (0.12.1)\n",
      "Requirement already satisfied: fonttools>=4.22.0 in e:\\my projects\\gcash-review-sentiment-analysis\\env\\lib\\site-packages (from matplotlib) (4.51.0)\n",
      "Requirement already satisfied: kiwisolver>=1.3.1 in e:\\my projects\\gcash-review-sentiment-analysis\\env\\lib\\site-packages (from matplotlib) (1.4.5)\n",
      "Requirement already satisfied: pillow>=8 in e:\\my projects\\gcash-review-sentiment-analysis\\env\\lib\\site-packages (from matplotlib) (10.3.0)\n",
      "Requirement already satisfied: pyparsing>=2.3.1 in e:\\my projects\\gcash-review-sentiment-analysis\\env\\lib\\site-packages (from matplotlib) (3.1.2)\n",
      "Requirement already satisfied: spacy-legacy<3.1.0,>=3.0.11 in e:\\my projects\\gcash-review-sentiment-analysis\\env\\lib\\site-packages (from spacy) (3.0.12)\n",
      "Requirement already satisfied: spacy-loggers<2.0.0,>=1.0.0 in e:\\my projects\\gcash-review-sentiment-analysis\\env\\lib\\site-packages (from spacy) (1.0.5)\n",
      "Requirement already satisfied: murmurhash<1.1.0,>=0.28.0 in e:\\my projects\\gcash-review-sentiment-analysis\\env\\lib\\site-packages (from spacy) (1.0.10)\n",
      "Requirement already satisfied: cymem<2.1.0,>=2.0.2 in e:\\my projects\\gcash-review-sentiment-analysis\\env\\lib\\site-packages (from spacy) (2.0.8)\n",
      "Requirement already satisfied: preshed<3.1.0,>=3.0.2 in e:\\my projects\\gcash-review-sentiment-analysis\\env\\lib\\site-packages (from spacy) (3.0.9)\n",
      "Requirement already satisfied: thinc<8.3.0,>=8.2.2 in e:\\my projects\\gcash-review-sentiment-analysis\\env\\lib\\site-packages (from spacy) (8.2.3)\n",
      "Requirement already satisfied: wasabi<1.2.0,>=0.9.1 in e:\\my projects\\gcash-review-sentiment-analysis\\env\\lib\\site-packages (from spacy) (1.1.2)\n",
      "Requirement already satisfied: srsly<3.0.0,>=2.4.3 in e:\\my projects\\gcash-review-sentiment-analysis\\env\\lib\\site-packages (from spacy) (2.4.8)\n",
      "Requirement already satisfied: catalogue<2.1.0,>=2.0.6 in e:\\my projects\\gcash-review-sentiment-analysis\\env\\lib\\site-packages (from spacy) (2.0.10)\n",
      "Requirement already satisfied: weasel<0.4.0,>=0.1.0 in e:\\my projects\\gcash-review-sentiment-analysis\\env\\lib\\site-packages (from spacy) (0.3.4)\n",
      "Requirement already satisfied: typer<0.10.0,>=0.3.0 in e:\\my projects\\gcash-review-sentiment-analysis\\env\\lib\\site-packages (from spacy) (0.9.4)\n",
      "Requirement already satisfied: smart-open<7.0.0,>=5.2.1 in e:\\my projects\\gcash-review-sentiment-analysis\\env\\lib\\site-packages (from spacy) (6.4.0)\n",
      "Requirement already satisfied: tqdm<5.0.0,>=4.38.0 in e:\\my projects\\gcash-review-sentiment-analysis\\env\\lib\\site-packages (from spacy) (4.66.4)\n",
      "Requirement already satisfied: pydantic!=1.8,!=1.8.1,<3.0.0,>=1.7.4 in e:\\my projects\\gcash-review-sentiment-analysis\\env\\lib\\site-packages (from spacy) (2.7.1)\n",
      "Requirement already satisfied: jinja2 in e:\\my projects\\gcash-review-sentiment-analysis\\env\\lib\\site-packages (from spacy) (3.1.4)\n",
      "Requirement already satisfied: langcodes<4.0.0,>=3.2.0 in e:\\my projects\\gcash-review-sentiment-analysis\\env\\lib\\site-packages (from spacy) (3.4.0)\n",
      "Requirement already satisfied: nltk>=3.8 in e:\\my projects\\gcash-review-sentiment-analysis\\env\\lib\\site-packages (from textblob) (3.8.1)\n",
      "Requirement already satisfied: language-data>=1.2 in e:\\my projects\\gcash-review-sentiment-analysis\\env\\lib\\site-packages (from langcodes<4.0.0,>=3.2.0->spacy) (1.2.0)\n",
      "Requirement already satisfied: click in e:\\my projects\\gcash-review-sentiment-analysis\\env\\lib\\site-packages (from nltk>=3.8->textblob) (8.1.7)\n",
      "Requirement already satisfied: regex>=2021.8.3 in e:\\my projects\\gcash-review-sentiment-analysis\\env\\lib\\site-packages (from nltk>=3.8->textblob) (2024.5.10)\n",
      "Requirement already satisfied: annotated-types>=0.4.0 in e:\\my projects\\gcash-review-sentiment-analysis\\env\\lib\\site-packages (from pydantic!=1.8,!=1.8.1,<3.0.0,>=1.7.4->spacy) (0.6.0)\n",
      "Requirement already satisfied: pydantic-core==2.18.2 in e:\\my projects\\gcash-review-sentiment-analysis\\env\\lib\\site-packages (from pydantic!=1.8,!=1.8.1,<3.0.0,>=1.7.4->spacy) (2.18.2)\n",
      "Requirement already satisfied: charset-normalizer<4,>=2 in e:\\my projects\\gcash-review-sentiment-analysis\\env\\lib\\site-packages (from requests<3,>=2.21.0->tensorflow-intel==2.16.1->tensorflow) (3.3.2)\n",
      "Requirement already satisfied: idna<4,>=2.5 in e:\\my projects\\gcash-review-sentiment-analysis\\env\\lib\\site-packages (from requests<3,>=2.21.0->tensorflow-intel==2.16.1->tensorflow) (3.7)\n",
      "Requirement already satisfied: urllib3<3,>=1.21.1 in e:\\my projects\\gcash-review-sentiment-analysis\\env\\lib\\site-packages (from requests<3,>=2.21.0->tensorflow-intel==2.16.1->tensorflow) (2.2.1)\n",
      "Requirement already satisfied: certifi>=2017.4.17 in e:\\my projects\\gcash-review-sentiment-analysis\\env\\lib\\site-packages (from requests<3,>=2.21.0->tensorflow-intel==2.16.1->tensorflow) (2024.2.2)\n",
      "Requirement already satisfied: blis<0.8.0,>=0.7.8 in e:\\my projects\\gcash-review-sentiment-analysis\\env\\lib\\site-packages (from thinc<8.3.0,>=8.2.2->spacy) (0.7.11)\n",
      "Requirement already satisfied: confection<1.0.0,>=0.0.1 in e:\\my projects\\gcash-review-sentiment-analysis\\env\\lib\\site-packages (from thinc<8.3.0,>=8.2.2->spacy) (0.1.4)\n",
      "Requirement already satisfied: colorama in e:\\my projects\\gcash-review-sentiment-analysis\\env\\lib\\site-packages (from tqdm<5.0.0,>=4.38.0->spacy) (0.4.6)\n",
      "Requirement already satisfied: cloudpathlib<0.17.0,>=0.7.0 in e:\\my projects\\gcash-review-sentiment-analysis\\env\\lib\\site-packages (from weasel<0.4.0,>=0.1.0->spacy) (0.16.0)\n",
      "Requirement already satisfied: MarkupSafe>=2.0 in e:\\my projects\\gcash-review-sentiment-analysis\\env\\lib\\site-packages (from jinja2->spacy) (2.1.5)\n",
      "Requirement already satisfied: markdown-it-py>=2.2.0 in e:\\my projects\\gcash-review-sentiment-analysis\\env\\lib\\site-packages (from rich->keras) (3.0.0)\n",
      "Requirement already satisfied: pygments<3.0.0,>=2.13.0 in e:\\my projects\\gcash-review-sentiment-analysis\\env\\lib\\site-packages (from rich->keras) (2.18.0)\n",
      "Requirement already satisfied: wheel<1.0,>=0.23.0 in e:\\my projects\\gcash-review-sentiment-analysis\\env\\lib\\site-packages (from astunparse>=1.6.0->tensorflow-intel==2.16.1->tensorflow) (0.43.0)\n",
      "Requirement already satisfied: marisa-trie>=0.7.7 in e:\\my projects\\gcash-review-sentiment-analysis\\env\\lib\\site-packages (from language-data>=1.2->langcodes<4.0.0,>=3.2.0->spacy) (1.1.1)\n",
      "Requirement already satisfied: mdurl~=0.1 in e:\\my projects\\gcash-review-sentiment-analysis\\env\\lib\\site-packages (from markdown-it-py>=2.2.0->rich->keras) (0.1.2)\n",
      "Requirement already satisfied: markdown>=2.6.8 in e:\\my projects\\gcash-review-sentiment-analysis\\env\\lib\\site-packages (from tensorboard<2.17,>=2.16->tensorflow-intel==2.16.1->tensorflow) (3.6)\n",
      "Requirement already satisfied: tensorboard-data-server<0.8.0,>=0.7.0 in e:\\my projects\\gcash-review-sentiment-analysis\\env\\lib\\site-packages (from tensorboard<2.17,>=2.16->tensorflow-intel==2.16.1->tensorflow) (0.7.2)\n",
      "Requirement already satisfied: werkzeug>=1.0.1 in e:\\my projects\\gcash-review-sentiment-analysis\\env\\lib\\site-packages (from tensorboard<2.17,>=2.16->tensorflow-intel==2.16.1->tensorflow) (3.0.3)\n",
      "Note: you may need to restart the kernel to use updated packages.\n"
     ]
    },
    {
     "name": "stderr",
     "output_type": "stream",
     "text": [
      "\n",
      "[notice] A new release of pip is available: 23.2.1 -> 24.0\n",
      "[notice] To update, run: python.exe -m pip install --upgrade pip\n"
     ]
    }
   ],
   "source": [
    "%pip install pandas numpy scikit-learn tensorflow keras matplotlib seaborn spacy textblob wordcloud"
   ]
  },
  {
   "cell_type": "markdown",
   "metadata": {},
   "source": [
    "# Import Dependencies"
   ]
  },
  {
   "cell_type": "code",
   "execution_count": 2,
   "metadata": {},
   "outputs": [],
   "source": [
    "# Import data analysis libraries\n",
    "import pandas as pd\n",
    "import numpy as np\n",
    "\n",
    "# Import data visualization libraries\n",
    "import matplotlib.pyplot as plt\n",
    "import seaborn as sns\n",
    "\n",
    "# Import text processing libraries\n",
    "import spacy \n",
    "from textblob import TextBlob\n",
    "from wordcloud import WordCloud\n",
    "\n"
   ]
  },
  {
   "cell_type": "markdown",
   "metadata": {},
   "source": [
    "# Import Dataset"
   ]
  },
  {
   "cell_type": "code",
   "execution_count": 2,
   "metadata": {},
   "outputs": [],
   "source": [
    "df = pd.read_csv(\"Dataset/gcash_review_dataset.zip\", compression=\"zip\")"
   ]
  },
  {
   "cell_type": "markdown",
   "metadata": {},
   "source": [
    "## Get information about Dataset"
   ]
  },
  {
   "cell_type": "markdown",
   "metadata": {},
   "source": [
    "### Show 5 rows of the dataset\n",
    "\n",
    "To see what are the rows look like"
   ]
  },
  {
   "cell_type": "code",
   "execution_count": 3,
   "metadata": {},
   "outputs": [
    {
     "data": {
      "text/html": [
       "<div>\n",
       "<style scoped>\n",
       "    .dataframe tbody tr th:only-of-type {\n",
       "        vertical-align: middle;\n",
       "    }\n",
       "\n",
       "    .dataframe tbody tr th {\n",
       "        vertical-align: top;\n",
       "    }\n",
       "\n",
       "    .dataframe thead th {\n",
       "        text-align: right;\n",
       "    }\n",
       "</style>\n",
       "<table border=\"1\" class=\"dataframe\">\n",
       "  <thead>\n",
       "    <tr style=\"text-align: right;\">\n",
       "      <th></th>\n",
       "      <th>Unnamed: 0</th>\n",
       "      <th>review_text</th>\n",
       "      <th>review_rating</th>\n",
       "      <th>author_id</th>\n",
       "      <th>author_name</th>\n",
       "      <th>author_app_version</th>\n",
       "      <th>review_datetime_utc</th>\n",
       "      <th>review_likes</th>\n",
       "    </tr>\n",
       "  </thead>\n",
       "  <tbody>\n",
       "    <tr>\n",
       "      <th>0</th>\n",
       "      <td>0</td>\n",
       "      <td>Works fine.. I like the graphics and layout.. ...</td>\n",
       "      <td>5</td>\n",
       "      <td>NaN</td>\n",
       "      <td>A Google user</td>\n",
       "      <td>1.0.1.0</td>\n",
       "      <td>2012-03-26T05:49:59.000Z</td>\n",
       "      <td>4</td>\n",
       "    </tr>\n",
       "    <tr>\n",
       "      <th>1</th>\n",
       "      <td>1</td>\n",
       "      <td>\"Unknown error occurred\" always popping up! Ne...</td>\n",
       "      <td>1</td>\n",
       "      <td>NaN</td>\n",
       "      <td>A Google user</td>\n",
       "      <td>1.0.0.0</td>\n",
       "      <td>2012-03-26T10:49:57.000Z</td>\n",
       "      <td>0</td>\n",
       "    </tr>\n",
       "    <tr>\n",
       "      <th>2</th>\n",
       "      <td>2</td>\n",
       "      <td>very convenient to use..</td>\n",
       "      <td>5</td>\n",
       "      <td>NaN</td>\n",
       "      <td>A Google user</td>\n",
       "      <td>1.0.1.0</td>\n",
       "      <td>2012-05-08T03:32:34.000Z</td>\n",
       "      <td>0</td>\n",
       "    </tr>\n",
       "    <tr>\n",
       "      <th>3</th>\n",
       "      <td>3</td>\n",
       "      <td>It would really be great if you add \"payable t...</td>\n",
       "      <td>4</td>\n",
       "      <td>NaN</td>\n",
       "      <td>A Google user</td>\n",
       "      <td>1.0.1.0</td>\n",
       "      <td>2012-05-31T13:53:30.000Z</td>\n",
       "      <td>7</td>\n",
       "    </tr>\n",
       "    <tr>\n",
       "      <th>4</th>\n",
       "      <td>4</td>\n",
       "      <td>Its working fine with my motorola droid razr. ...</td>\n",
       "      <td>5</td>\n",
       "      <td>NaN</td>\n",
       "      <td>A Google user</td>\n",
       "      <td>1.0.1.0</td>\n",
       "      <td>2012-06-20T13:38:43.000Z</td>\n",
       "      <td>1</td>\n",
       "    </tr>\n",
       "  </tbody>\n",
       "</table>\n",
       "</div>"
      ],
      "text/plain": [
       "   Unnamed: 0                                        review_text  \\\n",
       "0           0  Works fine.. I like the graphics and layout.. ...   \n",
       "1           1  \"Unknown error occurred\" always popping up! Ne...   \n",
       "2           2                           very convenient to use..   \n",
       "3           3  It would really be great if you add \"payable t...   \n",
       "4           4  Its working fine with my motorola droid razr. ...   \n",
       "\n",
       "   review_rating author_id    author_name author_app_version  \\\n",
       "0              5       NaN  A Google user            1.0.1.0   \n",
       "1              1       NaN  A Google user            1.0.0.0   \n",
       "2              5       NaN  A Google user            1.0.1.0   \n",
       "3              4       NaN  A Google user            1.0.1.0   \n",
       "4              5       NaN  A Google user            1.0.1.0   \n",
       "\n",
       "        review_datetime_utc  review_likes  \n",
       "0  2012-03-26T05:49:59.000Z             4  \n",
       "1  2012-03-26T10:49:57.000Z             0  \n",
       "2  2012-05-08T03:32:34.000Z             0  \n",
       "3  2012-05-31T13:53:30.000Z             7  \n",
       "4  2012-06-20T13:38:43.000Z             1  "
      ]
     },
     "execution_count": 3,
     "metadata": {},
     "output_type": "execute_result"
    }
   ],
   "source": [
    "df.head(5)"
   ]
  },
  {
   "cell_type": "markdown",
   "metadata": {},
   "source": [
    "### Shows Columns info and datatypes"
   ]
  },
  {
   "cell_type": "code",
   "execution_count": 4,
   "metadata": {},
   "outputs": [
    {
     "name": "stdout",
     "output_type": "stream",
     "text": [
      "<class 'pandas.core.frame.DataFrame'>\n",
      "RangeIndex: 585275 entries, 0 to 585274\n",
      "Data columns (total 8 columns):\n",
      " #   Column               Non-Null Count   Dtype \n",
      "---  ------               --------------   ----- \n",
      " 0   Unnamed: 0           585275 non-null  int64 \n",
      " 1   review_text          584879 non-null  object\n",
      " 2   review_rating        585275 non-null  int64 \n",
      " 3   author_id            585242 non-null  object\n",
      " 4   author_name          585275 non-null  object\n",
      " 5   author_app_version   456066 non-null  object\n",
      " 6   review_datetime_utc  585275 non-null  object\n",
      " 7   review_likes         585275 non-null  int64 \n",
      "dtypes: int64(3), object(5)\n",
      "memory usage: 35.7+ MB\n"
     ]
    }
   ],
   "source": [
    "df.info()"
   ]
  },
  {
   "cell_type": "markdown",
   "metadata": {},
   "source": [
    "Chceck the shape of the dataset"
   ]
  },
  {
   "cell_type": "code",
   "execution_count": 5,
   "metadata": {},
   "outputs": [
    {
     "name": "stdout",
     "output_type": "stream",
     "text": [
      "\n",
      "Rows: 585275\n",
      "Columns: 8\n",
      "\n"
     ]
    }
   ],
   "source": [
    "print(f\"\"\"\n",
    "Rows: {df.shape[0]}\n",
    "Columns: {df.shape[1]}\n",
    "\"\"\")"
   ]
  },
  {
   "cell_type": "markdown",
   "metadata": {},
   "source": [
    "# Data Exploration\n",
    "\n",
    "This includes the checking the class and other categorical variable."
   ]
  },
  {
   "cell_type": "markdown",
   "metadata": {},
   "source": [
    "## Checkout the classes"
   ]
  },
  {
   "cell_type": "code",
   "execution_count": 8,
   "metadata": {},
   "outputs": [
    {
     "name": "stdout",
     "output_type": "stream",
     "text": [
      "author_app_version\n",
      "5.69.0    0.038391\n",
      "5.50.0    0.036769\n",
      "5.43.0    0.036670\n",
      "5.42.0    0.032432\n",
      "5.44.1    0.029950\n",
      "            ...   \n",
      "2.2.2     0.000002\n",
      "2.3.1     0.000002\n",
      "5.13.1    0.000002\n",
      "5.58.0    0.000002\n",
      "5.18.0    0.000002\n",
      "Name: proportion, Length: 199, dtype: float64\n"
     ]
    }
   ],
   "source": [
    "print(df[\"author_app_version\"].value_counts(normalize=True))"
   ]
  },
  {
   "cell_type": "markdown",
   "metadata": {},
   "source": [
    "We can split the dataset by the version name so that we can see the distribution of the classes, and find the changes over the versions."
   ]
  },
  {
   "cell_type": "code",
   "execution_count": 12,
   "metadata": {},
   "outputs": [
    {
     "data": {
      "text/plain": [
       "array(['1.0.1.0', '1.0.0.0', nan, '1.3.0', '1.4.0', '1.4.1', '1.4.2',\n",
       "       '1.5.2', '1.6.0', '1.7.0', '1.7.2', '1.7.3', '1.7.4', '1.7.7',\n",
       "       '2.0.0', '2.0.1', '2.0.2', '2.0.3', '2.0.4', '2.0.5', '2.0.6',\n",
       "       '2.0.7', '2.0.8', '2.0.10', '2.1.0', '2.1.1', '2.1.3', '2.1.4',\n",
       "       '2.1.5', '2.2.0', '2.2.1', '2.2.2', '2.2.3', '2.2.4', '2.3.1',\n",
       "       '2.3.3', '2.3.4', '2.3.5', '2.3.6', '2.3.7', '2.4.0', '2.4.1',\n",
       "       '2.4.2', '2.4.3', '3.0.0', '3.0.1', '3.0.3', '3.0.4', '3.0.6',\n",
       "       '3.0.7', '3.0.8', '3.0.9', '3.1.0', '3.1.1', '4.0.1', '4.0.3',\n",
       "       '4.0.5', '4.1.0', '4.2.0', '4.2.1', '4.3.0', '4.4.0', '4.5.0',\n",
       "       '4.6.0', '4.7.0', '4.7.1', '5.0.0', '5.1.0', '5.2.0', '5.2.1',\n",
       "       '5.3.0', '5.4.1', '5.4.0', '5.5.0', '5.6.0', '5.7.0', '5.8.0',\n",
       "       '5.9.0', '5.9.1', '5.9.2', '5.10.1', '5.11.0', '5.11.1', '5.11.2',\n",
       "       '5.11.3', '5.12.0', '5.13.0', '5.13.1', '5.13.2', '5.14.0',\n",
       "       '5.15.0', '5.15.1', '5.15.2', '5.15.3', '5.16.0', '5.16.1',\n",
       "       '5.17.0', '5.17.1', '5.17.2', '5.17.3', '5.18.0', '5.18.1',\n",
       "       '5.18.2', '5.19.0', '5.19.1', '5.19.2', '5.19.3', '5.19.4',\n",
       "       '5.20.0', '5.20.1', '5.20.2', '5.21.0', '5.21.1', '5.21.2',\n",
       "       '5.22.0', '5.22.1', '5.23.0', '5.23.3', '5.24.0', '5.24.1',\n",
       "       '5.25.0', '5.26.0', '5.26.1', '5.26.2', '5.27.0', '5.27.1',\n",
       "       '5.27.2', '5.28.0', '5.28.1', '5.29.0', '5.29.1', '5.30.0',\n",
       "       '5.30.1', '5.30.2', '5.31.0', '5.31.1', '5.32.0', '5.32.1',\n",
       "       '5.32.2', '5.33.0', '5.34.0', '5.35.0', '5.36.0', '5.37.0',\n",
       "       '5.38.0', '5.38.1', '5.39.0', '5.39.1', '5.40.0', '5.41.0',\n",
       "       '5.42.0', '5.43.0', '5.44.0', '5.44.1', '5.45.0', '5.46.0',\n",
       "       '5.46.1', '5.47.0', '5.48.1', '5.48.0', '5.49.1', '5.50.0',\n",
       "       '5.51.0', '5.52.0', '5.52.1', '5.53.0', '5.53.1', '5.54.0',\n",
       "       '5.55.0', '5.56.0', '5.57.1', '5.57.0', '5.58.0', '5.58.1',\n",
       "       '5.58.2', '5.59.0', '5.59.1', '5.60.0', '5.61.0', '5.62.0',\n",
       "       '5.63.0', '5.63.1', '5.63.2', '5.64.0', '5.64.1', '5.64.2',\n",
       "       '5.65.0', '5.65.1', '5.66.0', '5.66.1', '5.66.2', '5.66.3',\n",
       "       '5.67.0', '5.67.1', '5.68.0', '5.68.1', '5.69.0', '5.69.1',\n",
       "       '5.69.2', '5.69.3'], dtype=object)"
      ]
     },
     "execution_count": 12,
     "metadata": {},
     "output_type": "execute_result"
    }
   ],
   "source": [
    "# splitting the dataset by the author_app_version\n",
    "versions = df[\"author_app_version\"].unique()\n",
    "compiled_versions = []"
   ]
  },
  {
   "cell_type": "markdown",
   "metadata": {},
   "source": [
    "Grouping the dataset by the version name\n",
    "\n",
    "from  version 1.0.0 to 5.0.0, we can see the distribution of the classes"
   ]
  },
  {
   "cell_type": "code",
   "execution_count": 25,
   "metadata": {},
   "outputs": [],
   "source": [
    "dfv_1 = df[df[\"author_app_version\"].str.contains(r'^1.', na=False, regex=True)]\n",
    "dfv_2 = df[df[\"author_app_version\"].str.contains(r'^2.', na=False, regex=True)]\n",
    "dfv_3 = df[df[\"author_app_version\"].str.contains(r'^3.', na=False, regex=True)]\n",
    "dfv_4 = df[df[\"author_app_version\"].str.contains(r'^4.', na=False, regex=True)]\n",
    "dfv_5 = df[df[\"author_app_version\"].str.contains(r'^5.', na=False, regex=True)]\n",
    "versions= [dfv_1, dfv_2, dfv_3, dfv_4, dfv_5]"
   ]
  },
  {
   "cell_type": "code",
   "execution_count": 28,
   "metadata": {},
   "outputs": [],
   "source": [
    "# Exporting into a csv or pickle file to be used in the next notebook\n",
    "for i, version in enumerate(versions):\n",
    "    version.to_csv(f\"Dataset/gcash_review_dataset_v{i+1}.zip\", compression=\"zip\", index=False)\n",
    "    version.to_pickle(f\"Dataset/gcash_review_dataset_v{i+1}.pkl\")"
   ]
  },
  {
   "cell_type": "code",
   "execution_count": 27,
   "metadata": {},
   "outputs": [
    {
     "name": "stdout",
     "output_type": "stream",
     "text": [
      "1 __ Rows: 43 Columns: 8\n",
      "2 __ Rows: 786 Columns: 8\n",
      "3 __ Rows: 695 Columns: 8\n",
      "4 __ Rows: 1420 Columns: 8\n",
      "5 __ Rows: 453122 Columns: 8\n"
     ]
    }
   ],
   "source": [
    "for i,version in enumerate(versions):\n",
    "    print(f\"{i+1} __ Rows: {version.shape[0]} Columns: {version.shape[1]}\")\n",
    "    "
   ]
  },
  {
   "cell_type": "markdown",
   "metadata": {},
   "source": [
    "This means most of the reviews are in the 5th version of the GCash App"
   ]
  },
  {
   "cell_type": "markdown",
   "metadata": {},
   "source": [
    "Then, checking how many review in each ratings."
   ]
  },
  {
   "cell_type": "code",
   "execution_count": 9,
   "metadata": {},
   "outputs": [],
   "source": [
    "review_rating = pd.DataFrame(df[\"review_rating\"].value_counts())"
   ]
  },
  {
   "cell_type": "code",
   "execution_count": 10,
   "metadata": {},
   "outputs": [],
   "source": [
    "review_rating[\"percentage\"] = round(review_rating[\"count\"] / df.__len__() *100,2)"
   ]
  },
  {
   "cell_type": "code",
   "execution_count": 11,
   "metadata": {},
   "outputs": [
    {
     "data": {
      "text/html": [
       "<div>\n",
       "<style scoped>\n",
       "    .dataframe tbody tr th:only-of-type {\n",
       "        vertical-align: middle;\n",
       "    }\n",
       "\n",
       "    .dataframe tbody tr th {\n",
       "        vertical-align: top;\n",
       "    }\n",
       "\n",
       "    .dataframe thead th {\n",
       "        text-align: right;\n",
       "    }\n",
       "</style>\n",
       "<table border=\"1\" class=\"dataframe\">\n",
       "  <thead>\n",
       "    <tr style=\"text-align: right;\">\n",
       "      <th></th>\n",
       "      <th>count</th>\n",
       "      <th>percentage</th>\n",
       "    </tr>\n",
       "    <tr>\n",
       "      <th>review_rating</th>\n",
       "      <th></th>\n",
       "      <th></th>\n",
       "    </tr>\n",
       "  </thead>\n",
       "  <tbody>\n",
       "    <tr>\n",
       "      <th>5</th>\n",
       "      <td>321150</td>\n",
       "      <td>54.87</td>\n",
       "    </tr>\n",
       "    <tr>\n",
       "      <th>1</th>\n",
       "      <td>160982</td>\n",
       "      <td>27.51</td>\n",
       "    </tr>\n",
       "    <tr>\n",
       "      <th>4</th>\n",
       "      <td>40357</td>\n",
       "      <td>6.90</td>\n",
       "    </tr>\n",
       "    <tr>\n",
       "      <th>3</th>\n",
       "      <td>34238</td>\n",
       "      <td>5.85</td>\n",
       "    </tr>\n",
       "    <tr>\n",
       "      <th>2</th>\n",
       "      <td>28548</td>\n",
       "      <td>4.88</td>\n",
       "    </tr>\n",
       "  </tbody>\n",
       "</table>\n",
       "</div>"
      ],
      "text/plain": [
       "                count  percentage\n",
       "review_rating                    \n",
       "5              321150       54.87\n",
       "1              160982       27.51\n",
       "4               40357        6.90\n",
       "3               34238        5.85\n",
       "2               28548        4.88"
      ]
     },
     "execution_count": 11,
     "metadata": {},
     "output_type": "execute_result"
    }
   ],
   "source": [
    "review_rating"
   ]
  },
  {
   "cell_type": "markdown",
   "metadata": {},
   "source": [
    "This shows that 54.87% gives highest ratings and 27.51% gives lowest rating."
   ]
  },
  {
   "cell_type": "markdown",
   "metadata": {},
   "source": [
    "### Checking the Review Text"
   ]
  },
  {
   "cell_type": "markdown",
   "metadata": {},
   "source": [
    "Check for null values"
   ]
  },
  {
   "cell_type": "code",
   "execution_count": 12,
   "metadata": {},
   "outputs": [
    {
     "name": "stdout",
     "output_type": "stream",
     "text": [
      "Null values: 396\n"
     ]
    }
   ],
   "source": [
    "print(\"Null values:\",df[\"review_text\"].isna().sum())"
   ]
  },
  {
   "cell_type": "markdown",
   "metadata": {},
   "source": [
    "Removing the null values"
   ]
  },
  {
   "cell_type": "code",
   "execution_count": 13,
   "metadata": {},
   "outputs": [],
   "source": [
    "df.dropna(subset=[\"review_text\"], inplace=True)"
   ]
  },
  {
   "cell_type": "markdown",
   "metadata": {},
   "source": [
    "Getting the latest version of the GCash App"
   ]
  },
  {
   "cell_type": "code",
   "execution_count": 3,
   "metadata": {},
   "outputs": [],
   "source": [
    "df_v5 = pd.read_pickle(\"Dataset/gcash_review_dataset_v5.pkl\")"
   ]
  },
  {
   "cell_type": "code",
   "execution_count": 4,
   "metadata": {},
   "outputs": [
    {
     "data": {
      "text/html": [
       "<div>\n",
       "<style scoped>\n",
       "    .dataframe tbody tr th:only-of-type {\n",
       "        vertical-align: middle;\n",
       "    }\n",
       "\n",
       "    .dataframe tbody tr th {\n",
       "        vertical-align: top;\n",
       "    }\n",
       "\n",
       "    .dataframe thead th {\n",
       "        text-align: right;\n",
       "    }\n",
       "</style>\n",
       "<table border=\"1\" class=\"dataframe\">\n",
       "  <thead>\n",
       "    <tr style=\"text-align: right;\">\n",
       "      <th></th>\n",
       "      <th>Unnamed: 0</th>\n",
       "      <th>review_text</th>\n",
       "      <th>review_rating</th>\n",
       "      <th>author_id</th>\n",
       "      <th>author_name</th>\n",
       "      <th>author_app_version</th>\n",
       "      <th>review_datetime_utc</th>\n",
       "      <th>review_likes</th>\n",
       "    </tr>\n",
       "  </thead>\n",
       "  <tbody>\n",
       "    <tr>\n",
       "      <th>585268</th>\n",
       "      <td>585268</td>\n",
       "      <td>Hatdog</td>\n",
       "      <td>5</td>\n",
       "      <td>107165*********609479</td>\n",
       "      <td>A Google user</td>\n",
       "      <td>5.69.1</td>\n",
       "      <td>2023-11-06T07:39:03.000Z</td>\n",
       "      <td>0</td>\n",
       "    </tr>\n",
       "    <tr>\n",
       "      <th>585271</th>\n",
       "      <td>585271</td>\n",
       "      <td>So frustrating this app always says need to re...</td>\n",
       "      <td>2</td>\n",
       "      <td>116162*********376741</td>\n",
       "      <td>A Google user</td>\n",
       "      <td>5.69.3</td>\n",
       "      <td>2023-11-06T07:41:23.000Z</td>\n",
       "      <td>0</td>\n",
       "    </tr>\n",
       "    <tr>\n",
       "      <th>585272</th>\n",
       "      <td>585272</td>\n",
       "      <td>Every I open this app you need to upate kakainis</td>\n",
       "      <td>1</td>\n",
       "      <td>106498*********463524</td>\n",
       "      <td>A Google user</td>\n",
       "      <td>5.69.1</td>\n",
       "      <td>2023-11-06T07:41:56.000Z</td>\n",
       "      <td>0</td>\n",
       "    </tr>\n",
       "    <tr>\n",
       "      <th>585273</th>\n",
       "      <td>585273</td>\n",
       "      <td>This app is helpful 3yrs ago but sad to say it...</td>\n",
       "      <td>2</td>\n",
       "      <td>111783*********584598</td>\n",
       "      <td>A Google user</td>\n",
       "      <td>5.69.1</td>\n",
       "      <td>2023-11-06T07:42:26.000Z</td>\n",
       "      <td>0</td>\n",
       "    </tr>\n",
       "    <tr>\n",
       "      <th>585274</th>\n",
       "      <td>585274</td>\n",
       "      <td>Good</td>\n",
       "      <td>5</td>\n",
       "      <td>104224*********236759</td>\n",
       "      <td>A Google user</td>\n",
       "      <td>5.69.1</td>\n",
       "      <td>2023-11-06T07:42:43.000Z</td>\n",
       "      <td>0</td>\n",
       "    </tr>\n",
       "  </tbody>\n",
       "</table>\n",
       "</div>"
      ],
      "text/plain": [
       "        Unnamed: 0                                        review_text  \\\n",
       "585268      585268                                             Hatdog   \n",
       "585271      585271  So frustrating this app always says need to re...   \n",
       "585272      585272   Every I open this app you need to upate kakainis   \n",
       "585273      585273  This app is helpful 3yrs ago but sad to say it...   \n",
       "585274      585274                                               Good   \n",
       "\n",
       "        review_rating              author_id    author_name  \\\n",
       "585268              5  107165*********609479  A Google user   \n",
       "585271              2  116162*********376741  A Google user   \n",
       "585272              1  106498*********463524  A Google user   \n",
       "585273              2  111783*********584598  A Google user   \n",
       "585274              5  104224*********236759  A Google user   \n",
       "\n",
       "       author_app_version       review_datetime_utc  review_likes  \n",
       "585268             5.69.1  2023-11-06T07:39:03.000Z             0  \n",
       "585271             5.69.3  2023-11-06T07:41:23.000Z             0  \n",
       "585272             5.69.1  2023-11-06T07:41:56.000Z             0  \n",
       "585273             5.69.1  2023-11-06T07:42:26.000Z             0  \n",
       "585274             5.69.1  2023-11-06T07:42:43.000Z             0  "
      ]
     },
     "execution_count": 4,
     "metadata": {},
     "output_type": "execute_result"
    }
   ],
   "source": [
    "df_v5.tail(5)"
   ]
  },
  {
   "cell_type": "markdown",
   "metadata": {},
   "source": [
    "Downloading the spacy model for topic modelling"
   ]
  },
  {
   "cell_type": "code",
   "execution_count": null,
   "metadata": {},
   "outputs": [],
   "source": [
    "!python -m spacy download en_core_web_sm"
   ]
  },
  {
   "cell_type": "markdown",
   "metadata": {},
   "source": [
    "Loading it"
   ]
  },
  {
   "cell_type": "code",
   "execution_count": 5,
   "metadata": {},
   "outputs": [],
   "source": [
    "from spacy.lang.en.stop_words import STOP_WORDS as STOP_WORDS_EN\n",
    "from spacy.lang.tl.stop_words import STOP_WORDS as STOP_WORDS_TL\n",
    "\n",
    "additional_stopwords = set(['nyo', 'niyo', 'naman', 'yung', 'yun', 'yong'])\n",
    "STOP_WORDS_TL |= additional_stopwords"
   ]
  },
  {
   "cell_type": "code",
   "execution_count": 6,
   "metadata": {},
   "outputs": [],
   "source": [
    "def removing_stopwords(text):\n",
    "    up = \" \".join([word.lower() for word in text.split(\" \") if word.lower() not in STOP_WORDS_EN and word.lower() not in STOP_WORDS_TL])\n",
    "    return up"
   ]
  },
  {
   "cell_type": "code",
   "execution_count": 7,
   "metadata": {},
   "outputs": [],
   "source": [
    "import re\n",
    "def remove_special_characters(text):\n",
    "    text = re.sub(r'[^A-Za-z0-9]+', ' ', text)\n",
    "    return text"
   ]
  },
  {
   "cell_type": "code",
   "execution_count": 8,
   "metadata": {},
   "outputs": [],
   "source": [
    "df_v5[\"tokens\"] = df_v5[\"review_text\"].astype(str).apply(lambda x: removing_stopwords(x)).apply(lambda x: remove_special_characters(x))"
   ]
  },
  {
   "cell_type": "code",
   "execution_count": 9,
   "metadata": {},
   "outputs": [],
   "source": [
    "df_v5.reset_index(drop=True, inplace=True)"
   ]
  },
  {
   "cell_type": "code",
   "execution_count": 10,
   "metadata": {},
   "outputs": [
    {
     "data": {
      "text/plain": [
       "0                  says 3 globe tm numbers globe tm numbers\n",
       "1         doesn t reply verification trying couple weeks...\n",
       "2                                                  love it \n",
       "3              new version got error access account dislike\n",
       "4         gcash pakiayos system madaming nangangailangan...\n",
       "                                ...                        \n",
       "453117                                               hatdog\n",
       "453118    frustrating app says need restarts security me...\n",
       "453119                         open app need upate kakainis\n",
       "453120    app helpful 3yrs ago sad it s getting worst as...\n",
       "453121                                                 good\n",
       "Name: tokens, Length: 453122, dtype: object"
      ]
     },
     "execution_count": 10,
     "metadata": {},
     "output_type": "execute_result"
    }
   ],
   "source": [
    "df_v5[\"tokens\"]"
   ]
  },
  {
   "cell_type": "code",
   "execution_count": 11,
   "metadata": {},
   "outputs": [],
   "source": [
    "sampled_text = df_v5.dropna().sample(1000)[\"tokens\"]"
   ]
  },
  {
   "cell_type": "code",
   "execution_count": 12,
   "metadata": {},
   "outputs": [
    {
     "data": {
      "text/plain": [
       "143415                                                 good\n",
       "109220    worst app use reliable crashes everytime stron...\n",
       "108859    hope school id voters certificate verification...\n",
       "449673    sana list valid id barangay id sobra hirap id ...\n",
       "167370                                                 good\n",
       "                                ...                        \n",
       "314853                                                 good\n",
       "336275    update app account loss wrong didn t remember ...\n",
       "73746                                                 happy\n",
       "40309                                                  like\n",
       "374785                                       hard to follow\n",
       "Name: tokens, Length: 1000, dtype: object"
      ]
     },
     "execution_count": 12,
     "metadata": {},
     "output_type": "execute_result"
    }
   ],
   "source": [
    "sampled_text"
   ]
  },
  {
   "cell_type": "code",
   "execution_count": 15,
   "metadata": {},
   "outputs": [],
   "source": [
    "from sklearn.feature_extraction.text import TfidfVectorizer"
   ]
  },
  {
   "cell_type": "code",
   "execution_count": 16,
   "metadata": {},
   "outputs": [],
   "source": [
    "vectorizer = TfidfVectorizer() # Para sa pag convert ng text patungong vector"
   ]
  },
  {
   "cell_type": "code",
   "execution_count": 17,
   "metadata": {},
   "outputs": [],
   "source": [
    "X = vectorizer.fit_transform(sampled_text)\n",
    "\n",
    "feature_names = vectorizer.get_feature_names_out()\n",
    "\n",
    "X_array = X.toarray()"
   ]
  },
  {
   "cell_type": "code",
   "execution_count": 18,
   "metadata": {},
   "outputs": [
    {
     "data": {
      "text/plain": [
       "1551"
      ]
     },
     "execution_count": 18,
     "metadata": {},
     "output_type": "execute_result"
    }
   ],
   "source": [
    "len(feature_names)"
   ]
  },
  {
   "cell_type": "code",
   "execution_count": 1,
   "metadata": {},
   "outputs": [],
   "source": [
    "from sklearn.decomposition import NMF, LatentDirichletAllocation, TruncatedSVD"
   ]
  },
  {
   "cell_type": "code",
   "execution_count": 20,
   "metadata": {},
   "outputs": [
    {
     "name": "stdout",
     "output_type": "stream",
     "text": [
      "iteration: 1 of max_iter: 15\n",
      "iteration: 2 of max_iter: 15\n",
      "iteration: 3 of max_iter: 15\n",
      "iteration: 4 of max_iter: 15\n",
      "iteration: 5 of max_iter: 15\n",
      "iteration: 6 of max_iter: 15\n",
      "iteration: 7 of max_iter: 15\n",
      "iteration: 8 of max_iter: 15\n",
      "iteration: 9 of max_iter: 15\n",
      "iteration: 10 of max_iter: 15\n",
      "iteration: 11 of max_iter: 15\n",
      "iteration: 12 of max_iter: 15\n",
      "iteration: 13 of max_iter: 15\n",
      "iteration: 14 of max_iter: 15\n",
      "iteration: 15 of max_iter: 15\n"
     ]
    }
   ],
   "source": [
    "lda = LatentDirichletAllocation(n_components=8, max_iter=15, learning_method='online',verbose=True)\n",
    "data_lda = lda.fit_transform(X)"
   ]
  },
  {
   "cell_type": "code",
   "execution_count": 21,
   "metadata": {},
   "outputs": [],
   "source": [
    "nmf = NMF(n_components=8)\n",
    "data_nmf = nmf.fit_transform(X) "
   ]
  },
  {
   "cell_type": "code",
   "execution_count": 22,
   "metadata": {},
   "outputs": [],
   "source": [
    "# Latent Semantic Indexing Model using Truncated SVD\n",
    "lsi = TruncatedSVD(n_components=8)\n",
    "data_lsi = lsi.fit_transform(X)"
   ]
  },
  {
   "cell_type": "code",
   "execution_count": 27,
   "metadata": {},
   "outputs": [],
   "source": [
    "# Functions for printing keywords for each topic\n",
    "def selected_topics(model, vectorizer, top_n=8):\n",
    "    for idx, topic in enumerate(model.components_):\n",
    "        print(\"Topic %d:\" % (idx+1))\n",
    "        print([(vectorizer.get_feature_names_out()[i], topic[i])\n",
    "                        for i in topic.argsort()[:-top_n - 1:-1]]) "
   ]
  },
  {
   "cell_type": "code",
   "execution_count": 28,
   "metadata": {},
   "outputs": [
    {
     "name": "stdout",
     "output_type": "stream",
     "text": [
      "LDA Model:\n",
      "Topic 1:\n",
      "[('nice', 75.63118513090986), ('app', 18.226274384450605), ('useful', 18.055818870262165), ('use', 8.5821190516108), ('easy', 5.326639910913145), ('wow', 4.225389787066876), ('application', 3.807223252477295), ('wallet', 3.717365414885776)]\n",
      "Topic 2:\n",
      "[('easy', 14.37708032403989), ('love', 12.765035932390946), ('awesome', 12.464659492889556), ('money', 9.607964108756018), ('it', 8.95694657229838), ('send', 7.120572020327362), ('load', 6.75237594461246), ('slow', 5.396162503863429)]\n",
      "Topic 3:\n",
      "[('ok', 27.50086867552988), ('happy', 10.625445783329697), ('best', 3.9543213427362143), ('apps', 2.030256884034176), ('thanks', 1.960546007773061), ('gcash', 1.5894763978406963), ('exeptional', 1.4717302365749152), ('gnda', 1.1156410430093893)]\n",
      "Topic 4:\n",
      "[('convenient', 13.678572267832644), ('excellent', 10.683542489313936), ('usefull', 4.81845311217723), ('reliable', 4.178778074331734), ('okay', 2.3403067460499596), ('updates', 2.2210620537624823), ('vg', 2.109623605687873), ('low', 1.6420313200334755)]\n",
      "Topic 5:\n",
      "[('helpful', 13.406594849373896), ('star', 4.264104781400767), ('perfect', 3.4732076706888937), ('satisfied', 3.097770164469553), ('far', 2.2096536907693753), ('app', 2.1298408539893505), ('nmn', 1.9961751679796098), ('gcash', 1.9158275869337393)]\n",
      "Topic 6:\n",
      "[('great', 30.847900142494744), ('apps', 14.571843275056162), ('app', 5.208532952226231), ('experience', 3.7179927830332886), ('maganda', 3.7009406814855437), ('safe', 3.2061342174714365), ('faster', 2.9110228307219272), ('di', 2.514171218083169)]\n",
      "Topic 7:\n",
      "[('update', 22.91208207079152), ('gcash', 20.209460191926432), ('open', 15.10443418406788), ('app', 13.59342096639091), ('can', 12.229906124166982), ('account', 9.207368015954284), ('it', 8.180179618383145), ('thank', 7.727772441810604)]\n",
      "Topic 8:\n",
      "[('good', 130.8395292201361), ('app', 8.14321484248473), ('amazing', 5.702444702013126), ('verry', 4.048887506850004), ('offline', 3.081300367592524), ('fabulous', 2.044153850384205), ('nc', 1.9477845020124998), ('bulok', 1.9359397618339527)]\n"
     ]
    }
   ],
   "source": [
    "# Keywords for topics clustered by Latent Dirichlet Allocation\n",
    "print(\"LDA Model:\")\n",
    "selected_topics(lda, vectorizer)"
   ]
  },
  {
   "cell_type": "code",
   "execution_count": 29,
   "metadata": {},
   "outputs": [
    {
     "name": "stdout",
     "output_type": "stream",
     "text": [
      "NMF Model:\n",
      "Topic 1:\n",
      "[('good', 3.2939847700036893), ('apps', 0.05995517633865084), ('it', 0.03534485307826172), ('service', 0.024376276300333396), ('application', 0.01831156117990022), ('verry', 0.014738998678006415), ('experience', 0.01301104636552158), ('far', 0.010921781616487505)]\n",
      "Topic 2:\n",
      "[('nice', 2.9122544429275963), ('apps', 0.14990385504636236), ('wallet', 0.03983019530532689), ('faster', 0.03516844702854418), ('wow', 0.030770963078818898), ('it', 0.03053868050851193), ('super', 0.025933890577824418), ('verry', 0.020032553274006853)]\n",
      "Topic 3:\n",
      "[('great', 2.390528698736892), ('convenient', 0.05407064066127419), ('experience', 0.049649967953861306), ('super', 0.04173488641571222), ('thanks', 0.04050155662733686), ('bills', 0.03767873091038058), ('awesome', 0.03708285290579865), ('ever', 0.031086402156141026)]\n",
      "Topic 4:\n",
      "[('ok', 2.2295515749780828), ('nmn', 0.053591193540858624), ('super', 0.0473875022811581), ('100', 0.04349429435260936), ('little', 0.040836138230918084), ('xa', 0.026787151444993534), ('po', 0.025624432563626422), ('poh', 0.01956488828572062)]\n",
      "Topic 5:\n",
      "[('app', 2.4758238442235405), ('helpful', 0.306079389646897), ('awesome', 0.1477329234884456), ('like', 0.12082905965208987), ('can', 0.1167853373553386), ('open', 0.10769838095103346), ('excellent', 0.08136987344653755), ('best', 0.07190575437617981)]\n",
      "Topic 6:\n",
      "[('easy', 1.529447156030953), ('use', 1.0012788500840728), ('convenient', 0.6830346637420082), ('money', 0.5142781392435808), ('send', 0.38833320917940733), ('pay', 0.19497209883841835), ('it', 0.18350306511402265), ('hassle', 0.16325572783207076)]\n",
      "Topic 7:\n",
      "[('useful', 1.7846492004509176), ('it', 0.29704357713334223), ('reliable', 0.06995199865094663), ('lot', 0.06364796889051309), ('time', 0.05733473623948465), ('need', 0.041042600087430325), ('thank', 0.03958554190430686), ('wonderful', 0.03926760521679502)]\n",
      "Topic 8:\n",
      "[('gcash', 0.9214938393439779), ('update', 0.890338954965132), ('open', 0.523736154552481), ('love', 0.44837665825704753), ('can', 0.37491104057725194), ('it', 0.3728851871826721), ('apps', 0.20623512095462393), ('need', 0.19206584718202285)]\n"
     ]
    }
   ],
   "source": [
    "# Keywords for topics clustered by Latent Semantic Indexing\n",
    "print(\"NMF Model:\")\n",
    "selected_topics(nmf, vectorizer)"
   ]
  },
  {
   "cell_type": "code",
   "execution_count": 30,
   "metadata": {},
   "outputs": [
    {
     "name": "stdout",
     "output_type": "stream",
     "text": [
      "LSI Model:\n",
      "Topic 1:\n",
      "[('good', 0.9974401370454636), ('app', 0.05711501439577938), ('apps', 0.0217192604787404), ('nice', 0.019041585783440184), ('it', 0.017071570307956713), ('use', 0.01021884607956934), ('easy', 0.008971198853437706), ('service', 0.008024773326834097)]\n",
      "Topic 2:\n",
      "[('nice', 0.973258339650495), ('app', 0.21457252193072912), ('apps', 0.052575774036984116), ('it', 0.020337953591376693), ('use', 0.015289930139781712), ('easy', 0.014135785468331566), ('gcash', 0.014061810417448067), ('great', 0.013531982140048875)]\n",
      "Topic 3:\n",
      "[('great', 0.9646682392553954), ('app', 0.23459359941281585), ('convenient', 0.03594730787256112), ('awesome', 0.0331202239878512), ('open', 0.021429506651308307), ('gcash', 0.0210761959770177), ('bills', 0.02017667562617699), ('experience', 0.01991938040745996)]\n",
      "Topic 4:\n",
      "[('ok', 0.9981859118816803), ('nmn', 0.02413585440435502), ('super', 0.020969452043634953), ('100', 0.019479860084869013), ('gcash', 0.01879181232614891), ('little', 0.018279089483515615), ('po', 0.01218253751509666), ('xa', 0.01199308065572048)]\n",
      "Topic 5:\n",
      "[('app', 0.7945286674680667), ('gcash', 0.18139469044771164), ('useful', 0.16626937873713407), ('open', 0.16576167158642327), ('update', 0.1508157457101545), ('it', 0.14480214912999514), ('can', 0.134294967653322), ('easy', 0.1294178449396156)]\n",
      "Topic 6:\n",
      "[('easy', 0.4856050107662546), ('use', 0.3458949543821742), ('useful', 0.3349384108433749), ('it', 0.26581689967352373), ('gcash', 0.2431884296200901), ('convenient', 0.19513066854440164), ('money', 0.18955788781818167), ('apps', 0.17325523097730725)]\n",
      "Topic 7:\n",
      "[('useful', 0.8870042480440171), ('it', 0.06495602094877441), ('app', 0.027601513117810325), ('lot', 0.02693537203344303), ('reliable', 0.02334451860983366), ('wonderful', 0.020055552849535793), ('digital', 0.018309573371919956), ('wallet', 0.016866760356510628)]\n",
      "Topic 8:\n",
      "[('update', 0.5129329973192209), ('gcash', 0.3727384521603901), ('open', 0.23013918298254088), ('can', 0.16700551055407284), ('it', 0.12046344920974636), ('love', 0.109700335937361), ('useful', 0.08688365573490463), ('account', 0.08095371068647814)]\n"
     ]
    }
   ],
   "source": [
    "# Keywords for topics clustered by Non-Negative Matrix Factorization\n",
    "print(\"LSI Model:\")\n",
    "selected_topics(lsi, vectorizer)"
   ]
  }
 ],
 "metadata": {
  "kernelspec": {
   "display_name": "env",
   "language": "python",
   "name": "python3"
  },
  "language_info": {
   "codemirror_mode": {
    "name": "ipython",
    "version": 3
   },
   "file_extension": ".py",
   "mimetype": "text/x-python",
   "name": "python",
   "nbconvert_exporter": "python",
   "pygments_lexer": "ipython3",
   "version": "3.11.5"
  },
  "orig_nbformat": 4
 },
 "nbformat": 4,
 "nbformat_minor": 2
}
